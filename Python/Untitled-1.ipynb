{
 "cells": [
  {
   "cell_type": "code",
   "execution_count": 21,
   "metadata": {},
   "outputs": [
    {
     "name": "stdout",
     "output_type": "stream",
     "text": [
      "      Código Venda                     ID Loja  Valor Unitário\n",
      "0            65014            Shopping Morumbi             114\n",
      "1            65014            Shopping Morumbi             269\n",
      "2            65016           Iguatemi Campinas             363\n",
      "3            65016           Iguatemi Campinas             250\n",
      "4            65017          Shopping SP Market              92\n",
      "...            ...                         ...             ...\n",
      "7084         69996  Center Shopping Uberlândia             102\n",
      "7085         69996  Center Shopping Uberlândia             270\n",
      "7086         69996  Center Shopping Uberlândia              87\n",
      "7087         69997           Ribeirão Shopping             108\n",
      "7088         69997           Ribeirão Shopping             133\n",
      "\n",
      "[7089 rows x 3 columns]\n"
     ]
    },
    {
     "data": {
      "text/plain": [
       "Rio Mar Recife                      0.051629\n",
       "Iguatemi Campinas                   0.044435\n",
       "Shopping Morumbi                    0.043165\n",
       "Shopping Eldorado                   0.042883\n",
       "Salvador Shopping                   0.042601\n",
       "Palladium Shopping Curitiba         0.042460\n",
       "Center Shopping Uberlândia          0.042319\n",
       "Shopping Vila Velha                 0.042178\n",
       "Rio Mar Shopping Fortaleza          0.041473\n",
       "Parque Dom Pedro Shopping           0.040908\n",
       "Shopping Iguatemi Fortaleza         0.040908\n",
       "Passei das Águas Shopping           0.040767\n",
       "Bourbon Shopping SP                 0.040344\n",
       "Shopping Recife                     0.040344\n",
       "Shopping União de Osasco            0.040062\n",
       "Ribeirão Shopping                   0.039075\n",
       "Shopping Ibirapuera                 0.038510\n",
       "Shopping SP Market                  0.038369\n",
       "Shopping Barra                      0.036677\n",
       "Shopping Midway Mall                0.036535\n",
       "Iguatemi Esplanada                  0.036394\n",
       "Norte Shopping                      0.035971\n",
       "Shopping Center Interlagos          0.035830\n",
       "Novo Shopping Ribeirão Preto        0.033714\n",
       "Shopping Center Leste Aricanduva    0.032445\n",
       "Name: ID Loja, dtype: float64"
      ]
     },
     "execution_count": 21,
     "metadata": {},
     "output_type": "execute_result"
    }
   ],
   "source": [
    "import pandas as pd \n",
    "import numpy \n",
    "import openpyxl\n",
    "import csv\n",
    "tabela_de_vendas = pd.read_excel(r'C:\\Users\\gabri\\Downloads\\Vendas - Dez.xlsx')\n",
    "tabela_de_vendas = tabela_de_vendas.drop('Data', axis= 1)\n",
    "tabela_de_vendas = tabela_de_vendas.drop('Produto',axis=1)\n",
    "tabela_de_vendas = tabela_de_vendas.drop('Valor Final', axis=1)\n",
    "tabela_de_vendas = tabela_de_vendas.drop('Quantidade', axis=1)\n",
    "W = tabela_de_vendas\n",
    "print(W)\n",
    "(W['ID Loja'].value_counts(normalize=True))\n"
   ]
  },
  {
   "cell_type": "code",
   "execution_count": null,
   "metadata": {},
   "outputs": [],
   "source": [
    "import pandas \n",
    "import numpy as np\n",
    "import openpyxl\n",
    "libe = pandas.read_csv('telecom_users.csv')\n",
    "display(libe[\"Genero\"].value_counts())\n"
   ]
  },
  {
   "cell_type": "code",
   "execution_count": null,
   "metadata": {},
   "outputs": [],
   "source": [
    "import pandas \n",
    "import numpy \n",
    "import openpyxl\n",
    "libe = pandas.read_excel('entregas_relatorioww.xlsx')\n",
    "libe.info()"
   ]
  },
  {
   "cell_type": "code",
   "execution_count": null,
   "metadata": {},
   "outputs": [],
   "source": [
    "import pandas as pd\n",
    "import numpy as np\n",
    "import openpyxl\n",
    "libe = pandas.read_excel('entregas_relatorioww.xlsx')\n",
    "libe = libe.drop('Nro. Entrega', axis=1)\n",
    "(libe)\n",
    "\n"
   ]
  },
  {
   "cell_type": "code",
   "execution_count": 153,
   "metadata": {},
   "outputs": [
    {
     "data": {
      "text/plain": [
       "3000"
      ]
     },
     "execution_count": 153,
     "metadata": {},
     "output_type": "execute_result"
    }
   ],
   "source": [
    "# SOMAS E MULTIPLICAÇÕES \n",
    "import pandas \n",
    "import numpy as np\n",
    "a=1\n",
    "b=3\n",
    "c=4\n",
    "g= (a),(c)\n",
    "D= pandas.value_counts('b''bb') #soma objetos\n",
    "u=b*1000\n",
    "(u)\n",
    "p= (u*c) #vezes \n",
    "(p)\n",
    "j= (c+b) \n",
    "10**3 # ao quadrado \n",
    "(u)"
   ]
  },
  {
   "cell_type": "code",
   "execution_count": 24,
   "metadata": {},
   "outputs": [
    {
     "data": {
      "text/plain": [
       "(9, 6.0)"
      ]
     },
     "execution_count": 24,
     "metadata": {},
     "output_type": "execute_result"
    }
   ],
   "source": [
    "a= 10 \n",
    "#while a>8:\n",
    "(a)\n",
    "a=a-1\n",
    "(a,12/2)# divisor\n"
   ]
  },
  {
   "cell_type": "code",
   "execution_count": 42,
   "metadata": {},
   "outputs": [
    {
     "data": {
      "text/plain": [
       "True"
      ]
     },
     "execution_count": 42,
     "metadata": {},
     "output_type": "execute_result"
    }
   ],
   "source": [
    "v=10 \n",
    "x= v<8*a\n",
    "(x)"
   ]
  },
  {
   "cell_type": "code",
   "execution_count": 55,
   "metadata": {},
   "outputs": [
    {
     "name": "stdout",
     "output_type": "stream",
     "text": [
      "ola mundo\n"
     ]
    }
   ],
   "source": [
    "print(\"ola mundo\")"
   ]
  },
  {
   "cell_type": "code",
   "execution_count": 32,
   "metadata": {},
   "outputs": [
    {
     "name": "stdout",
     "output_type": "stream",
     "text": [
      "Nao    51.5%\n",
      "Sim    48.5%\n",
      "Name: Casado, dtype: object\n"
     ]
    }
   ],
   "source": [
    "import csv \n",
    "import pandas as pd\n",
    "lib = pd.read_csv('telecom_users.csv')\n",
    "lib = lib.drop(['Unnamed: 0'], axis= 1)\n",
    "print(lib['Casado'].value_counts(normalize=True).map(\"{:.1%}\".format))\n"
   ]
  },
  {
   "cell_type": "code",
   "execution_count": null,
   "metadata": {},
   "outputs": [],
   "source": [
    "import plotly.express as px\n",
    "coluna = 'Casado'\n",
    "grafico = px.histogram(lib, x='Casado', color='Aposentado' )\n",
    "(grafico)\n"
   ]
  },
  {
   "cell_type": "code",
   "execution_count": 17,
   "metadata": {},
   "outputs": [
    {
     "name": "stderr",
     "output_type": "stream",
     "text": [
      "C:\\Users\\gabri\\AppData\\Local\\Temp\\ipykernel_10600\\4270918579.py:4: FutureWarning: The error_bad_lines argument has been deprecated and will be removed in a future version. Use on_bad_lines in the future.\n",
      "\n",
      "\n",
      "  gab = pandas.read_csv(r'C:\\Users\\gabri\\Downloads\\ggggg\\entregas_relatorio12.csv', encoding='latin1', sep=';' ,error_bad_lines=False)\n"
     ]
    }
   ],
   "source": [
    "import pandas\n",
    "import plotly.express as plot \n",
    "import matplotlib as mat\n",
    "gab = pandas.read_csv(r'C:\\Users\\gabri\\Downloads\\ggggg\\entregas_relatorio12.csv', encoding='latin1', sep=';' ,error_bad_lines=False)\n",
    "cidade = (gab[['Cidade Pessoa Visita','Dt. Recebimento','Nro. Entrega']])\n",
    "#puxar a coluna \n",
    "\n",
    "#puxar a cidade agora \n",
    "#Ensure you have matplotlib installed.\n",
    "#df is your dataframe\n",
    "cidade = (cidade[['Cidade Pessoa Visita','Dt. Recebimento','Nro. Entrega']])\n",
    "cidade = pandas.value_counts('Volta Redonda')\n"
   ]
  },
  {
   "cell_type": "code",
   "execution_count": 24,
   "metadata": {},
   "outputs": [],
   "source": [
    "gab = gab.filter(items=['Nota Fiscal','Nro. Entrega','Cidade Pessoa Visita'])\n",
    "gab.to_csv('liberados_para_entregas2.csv')"
   ]
  }
 ],
 "metadata": {
  "kernelspec": {
   "display_name": "Python 3",
   "language": "python",
   "name": "python3"
  },
  "language_info": {
   "codemirror_mode": {
    "name": "ipython",
    "version": 3
   },
   "file_extension": ".py",
   "mimetype": "text/x-python",
   "name": "python",
   "nbconvert_exporter": "python",
   "pygments_lexer": "ipython3",
   "version": "3.10.9"
  },
  "orig_nbformat": 4,
  "vscode": {
   "interpreter": {
    "hash": "e9e375da22a79186ffe49072ae6df2c8be50fc2c627f3d12cad18e70942528a3"
   }
  }
 },
 "nbformat": 4,
 "nbformat_minor": 2
}
